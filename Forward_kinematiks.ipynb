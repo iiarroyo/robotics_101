{
 "cells": [
  {
   "cell_type": "markdown",
   "metadata": {},
   "source": [
    "# Programing Assignment: Forward Kinematics "
   ]
  },
  {
   "cell_type": "markdown",
   "metadata": {},
   "source": [
    "## Programing exercise\n",
    "- These exercises must be solved INDIVIDUALLY\n",
    "- Write a report explaining any consideration taken during the development of these codes.\n",
    "- The report must include relevant figures and relevant numerical quantities.\n",
    "- This activity will account for the 50% of your M1 and M3 modules grade.  \n",
    "\n",
    "## Forward Kinematics Model \n",
    "In order to grade your submission exercise 3 MUST be solved for the general case with n joints, where  \n",
    "n=1…∞\n",
    "\n",
    " "
   ]
  },
  {
   "cell_type": "markdown",
   "metadata": {},
   "source": [
    "### Point 1 \n",
    "Write a function that will solve the **Forward Kinematics (FK)** of a planar 2R robot. The function must be named FK and must be called by typing P = FK(L, q). The output (P) will be a 2x1 vector  containing the end-effector’s $[x,y]$ coordinates expressed in the base frame. The function require s link lengths \n",
    "L=[L1,L2]\n",
    "  as inputs, as well as the current joint configuration vector \n",
    "q=[θ1,θ2]\n",
    "். Test your function using different configurations. "
   ]
  },
  {
   "cell_type": "markdown",
   "metadata": {},
   "source": [
    "Write a function that will plot the current configuration of the 2R robot. Use it to check your previous function.  (You could also use Gazebo to simulate the robot and verify your function)."
   ]
  },
  {
   "cell_type": "markdown",
   "metadata": {},
   "source": [
    "Write a function that will solve the FK for ANY open linked chain. The function must be named GENFK and be called by typing T = GENFK(sigma, a, alpha, d, theta, q). The  output will be a 4x4 matrix containing the end-effector’s position and orientation with respect to  the  base  frame.  The  function  requires  the chain's\n",
    " ்\n",
    " DH parameters \n",
    "a=[a1…an]T, alpha =[α1…αn]T, d=[d1…dn]T, θ=[θ1…θn]T\n",
    "as inputs and a Boolean vector sigma (σ) which denotes the type of joint. Use \n",
    "σi=0\n",
    " for R joints and \n",
    "σi=1\n",
    " for P type joints. Your function must work with any combination of R and P joints. Note that the current joint configuration vector q is a mix of joint variable \n",
    "di\n",
    " and \n",
    "θi\n",
    ". "
   ]
  },
  {
   "cell_type": "markdown",
   "metadata": {},
   "source": [
    "Use GENFK to write the FK of the 2DOF RP robot seen in class. Suitably modify the plotting function (2) in order to visualize the robot’s configuration. (Or simulate this robot in gazebo to verify it). "
   ]
  },
  {
   "cell_type": "markdown",
   "metadata": {},
   "source": [
    "Use GENFK to write the FK of the 6-axes robot shown in Figure 3. Suitably modify the plotting function (2) in order to visualize the robot’s configuration. (Or simulate this robot in gazebo to verify it). \n",
    " "
   ]
  },
  {
   "cell_type": "markdown",
   "metadata": {},
   "source": [
    "Write a function  \n",
    "\n",
    "A = rot2Euler(R) which takes a valid orientation matrix as input and outputs a valid Euler Angles representation.  \n",
    "\n",
    "R= euler2rot(A) which takes a valid set of Euler Angles as input and outputs a valid orientation matrix."
   ]
  },
  {
   "cell_type": "markdown",
   "metadata": {},
   "source": [
    "Write a function for  \n",
    "\n",
    "Q  =  rot2quat(R)  which  takes  a valid orientation matrix as input and outputs  a valid Quaternion representation.  \n",
    "\n",
    "R=  quat2rot(Q)  which  takes  a  valid Quaternion as input and outputs a valid orientation matrix "
   ]
  },
  {
   "cell_type": "code",
   "execution_count": null,
   "metadata": {},
   "outputs": [],
   "source": []
  }
 ],
 "metadata": {
  "language_info": {
   "name": "python"
  },
  "orig_nbformat": 4
 },
 "nbformat": 4,
 "nbformat_minor": 2
}
