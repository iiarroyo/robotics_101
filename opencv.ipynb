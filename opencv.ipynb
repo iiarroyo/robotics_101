{
 "cells": [
  {
   "cell_type": "code",
   "execution_count": 9,
   "metadata": {},
   "outputs": [],
   "source": [
    "import cv2 as cv\n",
    "import numpy as np\n",
    "import matplotlib.pyplot as plt\n",
    "from skimage.io import imread"
   ]
  },
  {
   "cell_type": "code",
   "execution_count": 14,
   "metadata": {},
   "outputs": [
    {
     "data": {
      "text/plain": [
       "98"
      ]
     },
     "execution_count": 14,
     "metadata": {},
     "output_type": "execute_result"
    }
   ],
   "source": [
    "basketballs = cv.imread('images/640px-FIBA_Basketballs_2004-2005.JPG')\n",
    "cv.imshow('Basketballs', basketballs)\n",
    "cv.waitKey(0)"
   ]
  },
  {
   "cell_type": "markdown",
   "metadata": {},
   "source": [
    "## Masking"
   ]
  },
  {
   "cell_type": "code",
   "execution_count": 55,
   "metadata": {},
   "outputs": [
    {
     "data": {
      "text/plain": [
       "98"
      ]
     },
     "execution_count": 55,
     "metadata": {},
     "output_type": "execute_result"
    }
   ],
   "source": [
    "mask = np.zeros(basketballs.shape[:2], dtype='uint8')\n",
    "circle = cv.circle(mask.copy(), (346, 340), 150, color=(255), thickness=-1)\n",
    "cv.imshow('Circle mask', circle)\n",
    "cv.waitKey(0)\n",
    "basketball = cv.bitwise_and(basketballs, basketballs, mask=circle)\n",
    "cv.imshow('basketball', basketball)\n",
    "cv.waitKey(0)"
   ]
  },
  {
   "cell_type": "markdown",
   "metadata": {},
   "source": [
    "### Actividad 2.3"
   ]
  },
  {
   "cell_type": "code",
   "execution_count": 58,
   "metadata": {},
   "outputs": [
    {
     "name": "stdout",
     "output_type": "stream",
     "text": [
      "(480, 640)\n"
     ]
    },
    {
     "data": {
      "text/plain": [
       "98"
      ]
     },
     "execution_count": 58,
     "metadata": {},
     "output_type": "execute_result"
    }
   ],
   "source": [
    "new_circle = cv.circle(mask.copy(), (170, 155), 140, color=(255), thickness=-1)\n",
    "cv.imshow('Circle mask', new_circle)\n",
    "cv.waitKey(0)\n",
    "print(new_circle.shape)\n",
    "circle_p = cv.bitwise_and(new_circle, circle)\n",
    "cv.imshow('Circle p', circle_p)\n",
    "# basketball2 = cv.bitwise_and(basketballs, basketballs, mask=circle)\n",
    "basketball2 = cv.bitwise_and(basketballs, basketballs, mask=new_circle - circle_p)\n",
    "cv.imshow('basketball2', basketball2)\n",
    "cv.waitKey(0)"
   ]
  },
  {
   "cell_type": "code",
   "execution_count": 57,
   "metadata": {},
   "outputs": [],
   "source": [
    "cv.destroyAllWindows()"
   ]
  }
 ],
 "metadata": {
  "interpreter": {
   "hash": "31f2aee4e71d21fbe5cf8b01ff0e069b9275f58929596ceb00d14d90e3e16cd6"
  },
  "kernelspec": {
   "display_name": "Python 3.6.9 64-bit",
   "language": "python",
   "name": "python3"
  },
  "language_info": {
   "codemirror_mode": {
    "name": "ipython",
    "version": 3
   },
   "file_extension": ".py",
   "mimetype": "text/x-python",
   "name": "python",
   "nbconvert_exporter": "python",
   "pygments_lexer": "ipython3",
   "version": "3.6.9"
  },
  "orig_nbformat": 4
 },
 "nbformat": 4,
 "nbformat_minor": 2
}
